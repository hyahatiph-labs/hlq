{
 "cells": [
  {
   "cell_type": "code",
   "execution_count": 1,
   "id": "9f54f702",
   "metadata": {},
   "outputs": [],
   "source": [
    "import numpy as np\n",
    "import cirq\n",
    "from cirq.contrib.svg import SVGCircuit"
   ]
  },
  {
   "cell_type": "code",
   "execution_count": 2,
   "id": "113f94b5",
   "metadata": {},
   "outputs": [
    {
     "data": {
      "text/plain": [
       "array([0.  , 0.25, 0.5 , 0.75, 1.  , 1.25, 1.5 , 1.75])"
      ]
     },
     "execution_count": 2,
     "metadata": {},
     "output_type": "execute_result"
    }
   ],
   "source": [
    "# single-qubit rotations\n",
    "exponents = np.linspace(0, 7/4, 8)\n",
    "exponents"
   ]
  },
  {
   "cell_type": "code",
   "execution_count": 3,
   "id": "4ed4cbed",
   "metadata": {},
   "outputs": [
    {
     "data": {
      "text/plain": [
       "([cirq.PhasedXZGate(axis_phase_exponent=0.0, x_exponent=0.5, z_exponent=0.0),\n",
       "  cirq.PhasedXZGate(axis_phase_exponent=0.0, x_exponent=0.5, z_exponent=0.25),\n",
       "  cirq.PhasedXZGate(axis_phase_exponent=0.0, x_exponent=0.5, z_exponent=0.5),\n",
       "  cirq.PhasedXZGate(axis_phase_exponent=0.0, x_exponent=0.5, z_exponent=0.75),\n",
       "  cirq.PhasedXZGate(axis_phase_exponent=0.0, x_exponent=0.5, z_exponent=1.0),\n",
       "  cirq.PhasedXZGate(axis_phase_exponent=0.0, x_exponent=0.5, z_exponent=1.25),\n",
       "  cirq.PhasedXZGate(axis_phase_exponent=0.0, x_exponent=0.5, z_exponent=1.5),\n",
       "  cirq.PhasedXZGate(axis_phase_exponent=0.0, x_exponent=0.5, z_exponent=1.75),\n",
       "  cirq.PhasedXZGate(axis_phase_exponent=0.25, x_exponent=0.5, z_exponent=0.0),\n",
       "  cirq.PhasedXZGate(axis_phase_exponent=0.25, x_exponent=0.5, z_exponent=0.25)],\n",
       " '...')"
      ]
     },
     "execution_count": 3,
     "metadata": {},
     "output_type": "execute_result"
    }
   ],
   "source": [
    "import itertools\n",
    "SINGLE_QUBIT_GATES = [\n",
    "    cirq.PhasedXZGate(x_exponent=0.5, z_exponent=z, axis_phase_exponent=a)\n",
    "    for a, z in itertools.product(exponents, repeat=2)\n",
    "]\n",
    "SINGLE_QUBIT_GATES[:10], '...'"
   ]
  },
  {
   "cell_type": "code",
   "execution_count": 4,
   "id": "fc625b9f",
   "metadata": {},
   "outputs": [
    {
     "name": "stderr",
     "output_type": "stream",
     "text": [
      "findfont: Font family ['Arial'] not found. Falling back to DejaVu Sans.\n"
     ]
    },
    {
     "data": {
      "image/svg+xml": [
       "<svg xmlns=\"http://www.w3.org/2000/svg\" width=\"1593.4769531250001\" height=\"100.0\"><line x1=\"30.0\" x2=\"1563.4769531250001\" y1=\"25.0\" y2=\"25.0\" stroke=\"#1967d2\" stroke-width=\"1\" /><line x1=\"30.0\" x2=\"1563.4769531250001\" y1=\"75.0\" y2=\"75.0\" stroke=\"#1967d2\" stroke-width=\"1\" /><line x1=\"321.51587890625007\" x2=\"321.51587890625007\" y1=\"25.0\" y2=\"75.0\" stroke=\"black\" stroke-width=\"3\" /><line x1=\"630.1545117187501\" x2=\"630.1545117187501\" y1=\"25.0\" y2=\"75.0\" stroke=\"black\" stroke-width=\"3\" /><line x1=\"943.2433398437502\" x2=\"943.2433398437502\" y1=\"25.0\" y2=\"75.0\" stroke=\"black\" stroke-width=\"3\" /><line x1=\"1274.1466210937501\" x2=\"1274.1466210937501\" y1=\"25.0\" y2=\"75.0\" stroke=\"black\" stroke-width=\"3\" /><rect x=\"10.0\" y=\"5.0\" width=\"40\" height=\"40\" stroke=\"black\" fill=\"white\" stroke-width=\"0\" /><text x=\"30.0\" y=\"25.0\" dominant-baseline=\"middle\" text-anchor=\"middle\" font-size=\"14px\" font-family=\"Arial\">0: </text><rect x=\"10.0\" y=\"55.0\" width=\"40\" height=\"40\" stroke=\"black\" fill=\"white\" stroke-width=\"0\" /><text x=\"30.0\" y=\"75.0\" dominant-baseline=\"middle\" text-anchor=\"middle\" font-size=\"14px\" font-family=\"Arial\">1: </text><rect x=\"70.00000000000001\" y=\"5.0\" width=\"189.94292968750003\" height=\"40\" stroke=\"black\" fill=\"white\" stroke-width=\"1\" /><text x=\"164.97146484375003\" y=\"25.0\" dominant-baseline=\"middle\" text-anchor=\"middle\" font-size=\"14px\" font-family=\"Arial\">PhXZ(a=1.5,x=0.5,z=1.5)</text><rect x=\"70.00000000000001\" y=\"55.0\" width=\"189.94292968750003\" height=\"40\" stroke=\"black\" fill=\"white\" stroke-width=\"1\" /><text x=\"164.97146484375003\" y=\"75.0\" dominant-baseline=\"middle\" text-anchor=\"middle\" font-size=\"14px\" font-family=\"Arial\">PhXZ(a=1,x=0.5,z=0)</text><rect x=\"279.94292968750005\" y=\"5.0\" width=\"83.14589843750001\" height=\"40\" stroke=\"black\" fill=\"white\" stroke-width=\"1\" /><text x=\"321.51587890625007\" y=\"25.0\" dominant-baseline=\"middle\" text-anchor=\"middle\" font-size=\"14px\" font-family=\"Arial\">iSwap</text><rect x=\"279.94292968750005\" y=\"55.0\" width=\"83.14589843750001\" height=\"40\" stroke=\"black\" fill=\"white\" stroke-width=\"1\" /><text x=\"321.51587890625007\" y=\"75.0\" dominant-baseline=\"middle\" text-anchor=\"middle\" font-size=\"14px\" font-family=\"Arial\">iSwap^0.5</text><rect x=\"383.0888281250001\" y=\"5.0\" width=\"185.49273437500003\" height=\"40\" stroke=\"black\" fill=\"white\" stroke-width=\"1\" /><text x=\"475.8351953125001\" y=\"25.0\" dominant-baseline=\"middle\" text-anchor=\"middle\" font-size=\"14px\" font-family=\"Arial\">PhXZ(a=0,x=0.5,z=1)</text><rect x=\"383.0888281250001\" y=\"55.0\" width=\"185.49273437500003\" height=\"40\" stroke=\"black\" fill=\"white\" stroke-width=\"1\" /><text x=\"475.8351953125001\" y=\"75.0\" dominant-baseline=\"middle\" text-anchor=\"middle\" font-size=\"14px\" font-family=\"Arial\">PhXZ(a=1.75,x=0.5,z=1)</text><rect x=\"588.5815625000001\" y=\"5.0\" width=\"83.14589843750001\" height=\"40\" stroke=\"black\" fill=\"white\" stroke-width=\"1\" /><text x=\"630.1545117187501\" y=\"25.0\" dominant-baseline=\"middle\" text-anchor=\"middle\" font-size=\"14px\" font-family=\"Arial\">iSwap</text><rect x=\"588.5815625000001\" y=\"55.0\" width=\"83.14589843750001\" height=\"40\" stroke=\"black\" fill=\"white\" stroke-width=\"1\" /><text x=\"630.1545117187501\" y=\"75.0\" dominant-baseline=\"middle\" text-anchor=\"middle\" font-size=\"14px\" font-family=\"Arial\">iSwap^0.5</text><rect x=\"691.7274609375002\" y=\"5.0\" width=\"189.94292968750003\" height=\"40\" stroke=\"black\" fill=\"white\" stroke-width=\"1\" /><text x=\"786.6989257812502\" y=\"25.0\" dominant-baseline=\"middle\" text-anchor=\"middle\" font-size=\"14px\" font-family=\"Arial\">PhXZ(a=1,x=0.5,z=0.5)</text><rect x=\"691.7274609375002\" y=\"55.0\" width=\"189.94292968750003\" height=\"40\" stroke=\"black\" fill=\"white\" stroke-width=\"1\" /><text x=\"786.6989257812502\" y=\"75.0\" dominant-baseline=\"middle\" text-anchor=\"middle\" font-size=\"14px\" font-family=\"Arial\">PhXZ(a=0.5,x=0.5,z=1.5)</text><rect x=\"901.6703906250002\" y=\"5.0\" width=\"83.14589843750001\" height=\"40\" stroke=\"black\" fill=\"white\" stroke-width=\"1\" /><text x=\"943.2433398437502\" y=\"25.0\" dominant-baseline=\"middle\" text-anchor=\"middle\" font-size=\"14px\" font-family=\"Arial\">iSwap</text><rect x=\"901.6703906250002\" y=\"55.0\" width=\"83.14589843750001\" height=\"40\" stroke=\"black\" fill=\"white\" stroke-width=\"1\" /><text x=\"943.2433398437502\" y=\"75.0\" dominant-baseline=\"middle\" text-anchor=\"middle\" font-size=\"14px\" font-family=\"Arial\">iSwap^0.5</text><rect x=\"1004.8162890625001\" y=\"5.0\" width=\"207.75738281250003\" height=\"40\" stroke=\"black\" fill=\"white\" stroke-width=\"1\" /><text x=\"1108.6949804687501\" y=\"25.0\" dominant-baseline=\"middle\" text-anchor=\"middle\" font-size=\"14px\" font-family=\"Arial\">PhXZ(a=1.75,x=0.5,z=0.25)</text><rect x=\"1004.8162890625001\" y=\"55.0\" width=\"207.75738281250003\" height=\"40\" stroke=\"black\" fill=\"white\" stroke-width=\"1\" /><text x=\"1108.6949804687501\" y=\"75.0\" dominant-baseline=\"middle\" text-anchor=\"middle\" font-size=\"14px\" font-family=\"Arial\">PhXZ(a=1.25,x=0.5,z=1.5)</text><rect x=\"1232.5736718750002\" y=\"5.0\" width=\"83.14589843750001\" height=\"40\" stroke=\"black\" fill=\"white\" stroke-width=\"1\" /><text x=\"1274.1466210937501\" y=\"25.0\" dominant-baseline=\"middle\" text-anchor=\"middle\" font-size=\"14px\" font-family=\"Arial\">iSwap</text><rect x=\"1232.5736718750002\" y=\"55.0\" width=\"83.14589843750001\" height=\"40\" stroke=\"black\" fill=\"white\" stroke-width=\"1\" /><text x=\"1274.1466210937501\" y=\"75.0\" dominant-baseline=\"middle\" text-anchor=\"middle\" font-size=\"14px\" font-family=\"Arial\">iSwap^0.5</text><rect x=\"1335.7195703125\" y=\"5.0\" width=\"207.75738281250003\" height=\"40\" stroke=\"black\" fill=\"white\" stroke-width=\"1\" /><text x=\"1439.59826171875\" y=\"25.0\" dominant-baseline=\"middle\" text-anchor=\"middle\" font-size=\"14px\" font-family=\"Arial\">PhXZ(a=1.75,x=0.5,z=1.25)</text><rect x=\"1335.7195703125\" y=\"55.0\" width=\"207.75738281250003\" height=\"40\" stroke=\"black\" fill=\"white\" stroke-width=\"1\" /><text x=\"1439.59826171875\" y=\"75.0\" dominant-baseline=\"middle\" text-anchor=\"middle\" font-size=\"14px\" font-family=\"Arial\">PhXZ(a=1,x=0.5,z=1)</text></svg>"
      ],
      "text/plain": [
       "<cirq.contrib.svg.svg.SVGCircuit at 0x7f773c2c7a00>"
      ]
     },
     "execution_count": 4,
     "metadata": {},
     "output_type": "execute_result"
    }
   ],
   "source": [
    "# random two-qubit circuit\n",
    "import cirq_google as cg\n",
    "from cirq.experiments import random_quantum_circuit_generation as rqcg\n",
    "\n",
    "q0, q1 = cirq.LineQubit.range(2)\n",
    "circuit = rqcg.random_rotations_between_two_qubit_circuit(\n",
    "    q0, q1, \n",
    "    depth=4, \n",
    "    two_qubit_op_factory=lambda a, b, _: cirq.SQRT_ISWAP(a, b), \n",
    "    single_qubit_gates=SINGLE_QUBIT_GATES\n",
    ")\n",
    "SVGCircuit(circuit)"
   ]
  },
  {
   "cell_type": "code",
   "execution_count": 5,
   "id": "22b3446f",
   "metadata": {},
   "outputs": [],
   "source": [
    "# long circuits to truncate\n",
    "MAX_DEPTH = 100\n",
    "N_CIRCUITS = 10\n",
    "circuits = [\n",
    "    rqcg.random_rotations_between_two_qubit_circuit(\n",
    "        q0, q1, \n",
    "        depth=MAX_DEPTH, \n",
    "        two_qubit_op_factory=lambda a, b, _: cirq.SQRT_ISWAP(a, b), \n",
    "        single_qubit_gates=SINGLE_QUBIT_GATES)\n",
    "    for _ in range(N_CIRCUITS)\n",
    "]"
   ]
  },
  {
   "cell_type": "code",
   "execution_count": 6,
   "id": "e44ff92e",
   "metadata": {},
   "outputs": [
    {
     "data": {
      "text/plain": [
       "array([  1,  10,  19,  28,  37,  46,  55,  64,  73,  82,  91, 100])"
      ]
     },
     "execution_count": 6,
     "metadata": {},
     "output_type": "execute_result"
    }
   ],
   "source": [
    "# length to truncate\n",
    "cycle_depths = np.arange(1, MAX_DEPTH + 1, 9)\n",
    "cycle_depths"
   ]
  },
  {
   "cell_type": "code",
   "execution_count": 7,
   "id": "9e94bde9",
   "metadata": {},
   "outputs": [
    {
     "name": "stdout",
     "output_type": "stream",
     "text": [
      "........................................................................................................................"
     ]
    }
   ],
   "source": [
    "pure_sim = cirq.Simulator()\n",
    "\n",
    "# Pauli Error. If there is an error, it is either X, Y, or Z\n",
    "# with probability E_PAULI / 3\n",
    "E_PAULI = 5e-3\n",
    "noisy_sim = cirq.DensityMatrixSimulator(noise=cirq.depolarize(E_PAULI))\n",
    "\n",
    "# These two qubit circuits have 2^2 = 4 probabilities\n",
    "DIM = 4\n",
    "\n",
    "records = []\n",
    "for cycle_depth in cycle_depths:\n",
    "    for circuit_i, circuit in enumerate(circuits):\n",
    "\n",
    "        # Truncate the long circuit to the requested cycle_depth\n",
    "        circuit_depth = cycle_depth * 2 + 1\n",
    "        assert circuit_depth <= len(circuit)\n",
    "        trunc_circuit = circuit[:circuit_depth]\n",
    "\n",
    "        # Pure-state simulation\n",
    "        psi = pure_sim.simulate(trunc_circuit)\n",
    "        psi = psi.final_state_vector\n",
    "        pure_probs = np.abs(psi)**2\n",
    "\n",
    "        # Noisy execution\n",
    "        meas_circuit = trunc_circuit + cirq.measure(q0, q1)\n",
    "        sampled_inds = noisy_sim.sample(meas_circuit, repetitions=10_000).values[:,0]\n",
    "        sampled_probs = np.bincount(sampled_inds, minlength=DIM) / len(sampled_inds)\n",
    "\n",
    "        # Save the results\n",
    "        records += [{\n",
    "            'circuit_i': circuit_i,\n",
    "            'cycle_depth': cycle_depth,\n",
    "            'circuit_depth': circuit_depth,\n",
    "            'pure_probs': pure_probs,\n",
    "            'sampled_probs': sampled_probs,\n",
    "        }]\n",
    "        print('.', end='', flush=True)"
   ]
  },
  {
   "cell_type": "code",
   "execution_count": 8,
   "id": "21422ee3",
   "metadata": {},
   "outputs": [],
   "source": [
    "for record in records:\n",
    "    e_u = np.sum(record['pure_probs']**2)\n",
    "    u_u = np.sum(record['pure_probs']) / DIM\n",
    "    m_u = np.sum(record['pure_probs'] * record['sampled_probs'])\n",
    "    record.update(\n",
    "        e_u=e_u,\n",
    "        u_u=u_u,\n",
    "        m_u=m_u,    \n",
    "    )"
   ]
  },
  {
   "cell_type": "code",
   "execution_count": 9,
   "id": "45132ecf",
   "metadata": {},
   "outputs": [
    {
     "data": {
      "text/html": [
       "<div>\n",
       "<style scoped>\n",
       "    .dataframe tbody tr th:only-of-type {\n",
       "        vertical-align: middle;\n",
       "    }\n",
       "\n",
       "    .dataframe tbody tr th {\n",
       "        vertical-align: top;\n",
       "    }\n",
       "\n",
       "    .dataframe thead th {\n",
       "        text-align: right;\n",
       "    }\n",
       "</style>\n",
       "<table border=\"1\" class=\"dataframe\">\n",
       "  <thead>\n",
       "    <tr style=\"text-align: right;\">\n",
       "      <th></th>\n",
       "      <th>circuit_i</th>\n",
       "      <th>cycle_depth</th>\n",
       "      <th>circuit_depth</th>\n",
       "      <th>pure_probs</th>\n",
       "      <th>sampled_probs</th>\n",
       "      <th>e_u</th>\n",
       "      <th>u_u</th>\n",
       "      <th>m_u</th>\n",
       "      <th>y</th>\n",
       "      <th>x</th>\n",
       "      <th>numerator</th>\n",
       "      <th>denominator</th>\n",
       "    </tr>\n",
       "  </thead>\n",
       "  <tbody>\n",
       "    <tr>\n",
       "      <th>0</th>\n",
       "      <td>0</td>\n",
       "      <td>1</td>\n",
       "      <td>3</td>\n",
       "      <td>[0.021446602, 0.72855335, 0.12499999, 0.12499998]</td>\n",
       "      <td>[0.0298, 0.7106, 0.1218, 0.1378]</td>\n",
       "      <td>0.562500</td>\n",
       "      <td>0.25</td>\n",
       "      <td>0.550799</td>\n",
       "      <td>0.300799</td>\n",
       "      <td>0.312500</td>\n",
       "      <td>0.094000</td>\n",
       "      <td>0.097656</td>\n",
       "    </tr>\n",
       "    <tr>\n",
       "      <th>1</th>\n",
       "      <td>1</td>\n",
       "      <td>1</td>\n",
       "      <td>3</td>\n",
       "      <td>[0.12500001, 0.12499998, 0.021446602, 0.72855335]</td>\n",
       "      <td>[0.1226, 0.132, 0.0341, 0.7113]</td>\n",
       "      <td>0.562500</td>\n",
       "      <td>0.25</td>\n",
       "      <td>0.550776</td>\n",
       "      <td>0.300776</td>\n",
       "      <td>0.312500</td>\n",
       "      <td>0.093993</td>\n",
       "      <td>0.097656</td>\n",
       "    </tr>\n",
       "    <tr>\n",
       "      <th>2</th>\n",
       "      <td>2</td>\n",
       "      <td>1</td>\n",
       "      <td>3</td>\n",
       "      <td>[0.56249994, 0.18749997, 0.18749997, 0.0625]</td>\n",
       "      <td>[0.5563, 0.1812, 0.1948, 0.0677]</td>\n",
       "      <td>0.390625</td>\n",
       "      <td>0.25</td>\n",
       "      <td>0.387650</td>\n",
       "      <td>0.137650</td>\n",
       "      <td>0.140625</td>\n",
       "      <td>0.019357</td>\n",
       "      <td>0.019775</td>\n",
       "    </tr>\n",
       "    <tr>\n",
       "      <th>3</th>\n",
       "      <td>3</td>\n",
       "      <td>1</td>\n",
       "      <td>3</td>\n",
       "      <td>[0.72855335, 0.021446602, 0.12499998, 0.124999...</td>\n",
       "      <td>[0.7081, 0.0313, 0.1362, 0.1244]</td>\n",
       "      <td>0.562500</td>\n",
       "      <td>0.25</td>\n",
       "      <td>0.549135</td>\n",
       "      <td>0.299135</td>\n",
       "      <td>0.312500</td>\n",
       "      <td>0.093480</td>\n",
       "      <td>0.097656</td>\n",
       "    </tr>\n",
       "    <tr>\n",
       "      <th>4</th>\n",
       "      <td>4</td>\n",
       "      <td>1</td>\n",
       "      <td>3</td>\n",
       "      <td>[0.68750006, 0.062499985, 0.062499985, 0.1875]</td>\n",
       "      <td>[0.68, 0.0728, 0.0736, 0.1736]</td>\n",
       "      <td>0.515625</td>\n",
       "      <td>0.25</td>\n",
       "      <td>0.509200</td>\n",
       "      <td>0.259200</td>\n",
       "      <td>0.265625</td>\n",
       "      <td>0.068850</td>\n",
       "      <td>0.070557</td>\n",
       "    </tr>\n",
       "  </tbody>\n",
       "</table>\n",
       "</div>"
      ],
      "text/plain": [
       "   circuit_i  cycle_depth  circuit_depth  \\\n",
       "0          0            1              3   \n",
       "1          1            1              3   \n",
       "2          2            1              3   \n",
       "3          3            1              3   \n",
       "4          4            1              3   \n",
       "\n",
       "                                          pure_probs  \\\n",
       "0  [0.021446602, 0.72855335, 0.12499999, 0.12499998]   \n",
       "1  [0.12500001, 0.12499998, 0.021446602, 0.72855335]   \n",
       "2       [0.56249994, 0.18749997, 0.18749997, 0.0625]   \n",
       "3  [0.72855335, 0.021446602, 0.12499998, 0.124999...   \n",
       "4     [0.68750006, 0.062499985, 0.062499985, 0.1875]   \n",
       "\n",
       "                      sampled_probs       e_u   u_u       m_u         y  \\\n",
       "0  [0.0298, 0.7106, 0.1218, 0.1378]  0.562500  0.25  0.550799  0.300799   \n",
       "1   [0.1226, 0.132, 0.0341, 0.7113]  0.562500  0.25  0.550776  0.300776   \n",
       "2  [0.5563, 0.1812, 0.1948, 0.0677]  0.390625  0.25  0.387650  0.137650   \n",
       "3  [0.7081, 0.0313, 0.1362, 0.1244]  0.562500  0.25  0.549135  0.299135   \n",
       "4    [0.68, 0.0728, 0.0736, 0.1736]  0.515625  0.25  0.509200  0.259200   \n",
       "\n",
       "          x  numerator  denominator  \n",
       "0  0.312500   0.094000     0.097656  \n",
       "1  0.312500   0.093993     0.097656  \n",
       "2  0.140625   0.019357     0.019775  \n",
       "3  0.312500   0.093480     0.097656  \n",
       "4  0.265625   0.068850     0.070557  "
      ]
     },
     "execution_count": 9,
     "metadata": {},
     "output_type": "execute_result"
    }
   ],
   "source": [
    "import pandas as pd\n",
    "df = pd.DataFrame(records)\n",
    "df['y'] = df['m_u'] - df['u_u']\n",
    "df['x'] = df['e_u'] - df['u_u']\n",
    "\n",
    "df['numerator'] = df['x'] * df['y']\n",
    "df['denominator'] = df['x'] ** 2\n",
    "df.head()"
   ]
  },
  {
   "cell_type": "code",
   "execution_count": 12,
   "id": "630fd4c2",
   "metadata": {},
   "outputs": [
    {
     "data": {
      "image/png": "[encoded data removed]",
      "text/plain": [
       "<Figure size 432x288 with 1 Axes>"
      ]
     },
     "metadata": {
      "needs_background": "light"
     },
     "output_type": "display_data"
    }
   ],
   "source": [
    "# plot the linear relationship and least squares fit\n",
    "%matplotlib inline\n",
    "from matplotlib import pyplot as plt\n",
    "\n",
    "# Color by cycle depth\n",
    "import seaborn as sns\n",
    "colors = sns.cubehelix_palette(n_colors=len(cycle_depths))        \n",
    "colors = {k: colors[i] for i, k in enumerate(cycle_depths)}\n",
    "\n",
    "_lines = []\n",
    "def per_cycle_depth(df):\n",
    "    fid_lsq = df['numerator'].sum() / df['denominator'].sum()\n",
    "\n",
    "    cycle_depth = df.name    \n",
    "    xx = np.linspace(0, df['x'].max())\n",
    "    l, = plt.plot(xx, fid_lsq*xx, color=colors[cycle_depth])\n",
    "    plt.scatter(df['x'], df['y'], color=colors[cycle_depth])\n",
    "\n",
    "    global _lines\n",
    "    _lines += [l] # for legend\n",
    "    return pd.Series({'fidelity': fid_lsq})\n",
    "\n",
    "fids = df.groupby('cycle_depth').apply(per_cycle_depth).reset_index()\n",
    "plt.xlabel(r'$e_U - u_U$', fontsize=18)\n",
    "plt.ylabel(r'$m_U - u_U$', fontsize=18)\n",
    "_lines = np.asarray(_lines)\n",
    "plt.legend(_lines[[0,-1]], cycle_depths[[0,-1]], loc='best', title='Cycle depth')\n",
    "plt.tight_layout()"
   ]
  },
  {
   "cell_type": "code",
   "execution_count": 13,
   "id": "c8a09b1a",
   "metadata": {},
   "outputs": [
    {
     "data": {
      "image/png": "[encoded data removed]",
      "text/plain": [
       "<Figure size 432x288 with 1 Axes>"
      ]
     },
     "metadata": {
      "needs_background": "light"
     },
     "output_type": "display_data"
    }
   ],
   "source": [
    "# fidelities\n",
    "plt.plot(\n",
    "    fids['cycle_depth'], \n",
    "    fids['fidelity'],\n",
    "    marker='o',\n",
    "    label='Least Squares')\n",
    "\n",
    "xx = np.linspace(0, fids['cycle_depth'].max())\n",
    "\n",
    "# In XEB, we extract the depolarizing fidelity, which is\n",
    "# related to (but not equal to) the Pauli error.\n",
    "# For the latter, an error involves doing X, Y, or Z with E_PAULI/3\n",
    "# but for the former, an error involves doing I, X, Y, or Z with e_depol/4\n",
    "e_depol = E_PAULI / (1 - 1/DIM**2)\n",
    "\n",
    "# The additional factor of four in the exponent is because each layer\n",
    "# involves two moments of two qubits (so each layer has four applications\n",
    "# of a single-qubit single-moment depolarizing channel).\n",
    "plt.plot(xx, (1-e_depol)**(4*xx), label=r'$(1-\\mathrm{e\\_depol})^{4d}$')\n",
    "\n",
    "plt.ylabel('Circuit fidelity', fontsize=18)\n",
    "plt.xlabel('Cycle Depth $d$', fontsize=18)\n",
    "plt.legend(loc='best')\n",
    "plt.yscale('log')\n",
    "plt.tight_layout()"
   ]
  },
  {
   "cell_type": "code",
   "execution_count": 14,
   "id": "b6a54e04",
   "metadata": {},
   "outputs": [
    {
     "name": "stdout",
     "output_type": "stream",
     "text": [
      "Noise model fidelity: 9.788e-01\n",
      "XEB layer fidelity:   9.789e-01 +- 2.01e-04\n"
     ]
    }
   ],
   "source": [
    "from cirq.experiments.xeb_fitting import fit_exponential_decays\n",
    "\n",
    "# Ordinarily, we'd use this function to fit curves for multiple pairs.\n",
    "# We add our qubit pair as a column.\n",
    "fids['pair'] = [(q0, q1)] * len(fids)\n",
    "\n",
    "fit_df = fit_exponential_decays(fids)\n",
    "fit_row = fit_df.iloc[0]\n",
    "print(f\"Noise model fidelity: {(1-e_depol)**4:.3e}\")\n",
    "print(f\"XEB layer fidelity:   {fit_row['layer_fid']:.3e} +- {fit_row['layer_fid_std']:.2e}\")"
   ]
  },
  {
   "cell_type": "code",
   "execution_count": null,
   "id": "f6f5beaa",
   "metadata": {},
   "outputs": [],
   "source": []
  }
 ],
 "metadata": {
  "kernelspec": {
   "display_name": "Python 3 (ipykernel)",
   "language": "python",
   "name": "python3"
  },
  "language_info": {
   "codemirror_mode": {
    "name": "ipython",
    "version": 3
   },
   "file_extension": ".py",
   "mimetype": "text/x-python",
   "name": "python",
   "nbconvert_exporter": "python",
   "pygments_lexer": "ipython3",
   "version": "3.8.10"
  }
 },
 "nbformat": 4,
 "nbformat_minor": 5
}
