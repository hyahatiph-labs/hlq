{
 "cells": [
  {
   "cell_type": "code",
   "execution_count": 1,
   "id": "7c868ad8",
   "metadata": {},
   "outputs": [],
   "source": [
    "import numpy as np\n",
    "\n",
    "import cirq\n",
    "from cirq.contrib.svg import SVGCircuit"
   ]
  },
  {
   "cell_type": "code",
   "execution_count": 2,
   "id": "8a365446",
   "metadata": {},
   "outputs": [
    {
     "data": {
      "text/plain": [
       "array([0.  , 0.25, 0.5 , 0.75, 1.  , 1.25, 1.5 , 1.75])"
      ]
     },
     "execution_count": 2,
     "metadata": {},
     "output_type": "execute_result"
    }
   ],
   "source": [
    "exponents = np.linspace(0, 7/4, 8)\n",
    "exponents"
   ]
  },
  {
   "cell_type": "code",
   "execution_count": 3,
   "id": "6ccfd261",
   "metadata": {},
   "outputs": [
    {
     "data": {
      "text/plain": [
       "([cirq.PhasedXZGate(axis_phase_exponent=0.0, x_exponent=0.5, z_exponent=0.0),\n",
       "  cirq.PhasedXZGate(axis_phase_exponent=0.0, x_exponent=0.5, z_exponent=0.25),\n",
       "  cirq.PhasedXZGate(axis_phase_exponent=0.0, x_exponent=0.5, z_exponent=0.5),\n",
       "  cirq.PhasedXZGate(axis_phase_exponent=0.0, x_exponent=0.5, z_exponent=0.75),\n",
       "  cirq.PhasedXZGate(axis_phase_exponent=0.0, x_exponent=0.5, z_exponent=1.0),\n",
       "  cirq.PhasedXZGate(axis_phase_exponent=0.0, x_exponent=0.5, z_exponent=1.25),\n",
       "  cirq.PhasedXZGate(axis_phase_exponent=0.0, x_exponent=0.5, z_exponent=1.5),\n",
       "  cirq.PhasedXZGate(axis_phase_exponent=0.0, x_exponent=0.5, z_exponent=1.75),\n",
       "  cirq.PhasedXZGate(axis_phase_exponent=0.25, x_exponent=0.5, z_exponent=0.0),\n",
       "  cirq.PhasedXZGate(axis_phase_exponent=0.25, x_exponent=0.5, z_exponent=0.25)],\n",
       " '...')"
      ]
     },
     "execution_count": 3,
     "metadata": {},
     "output_type": "execute_result"
    }
   ],
   "source": [
    "import itertools\n",
    "SINGLE_QUBIT_GATES = [\n",
    "    cirq.PhasedXZGate(x_exponent=0.5, z_exponent=z, axis_phase_exponent=a)\n",
    "    for a, z in itertools.product(exponents, repeat=2)\n",
    "]\n",
    "SINGLE_QUBIT_GATES[:10], '...'"
   ]
  },
  {
   "cell_type": "code",
   "execution_count": 4,
   "id": "9810722e",
   "metadata": {},
   "outputs": [],
   "source": [
    "import cirq_google as cg\n",
    "from cirq.experiments import random_quantum_circuit_generation as rqcg\n",
    "\n",
    "q0, q1 = cirq.LineQubit.range(2)"
   ]
  },
  {
   "cell_type": "code",
   "execution_count": 5,
   "id": "aa88c55b",
   "metadata": {},
   "outputs": [],
   "source": [
    "n_circuits = 10\n",
    "circuits = [\n",
    "    rqcg.random_rotations_between_two_qubit_circuit(\n",
    "        q0, q1, \n",
    "        depth=100, \n",
    "        two_qubit_op_factory=lambda a, b, _: cirq.SQRT_ISWAP(a, b), \n",
    "        single_qubit_gates=SINGLE_QUBIT_GATES)\n",
    "    for _ in range(n_circuits)\n",
    "]"
   ]
  },
  {
   "cell_type": "code",
   "execution_count": 6,
   "id": "044f9383",
   "metadata": {},
   "outputs": [
    {
     "data": {
      "text/plain": [
       "array([ 3, 12, 21, 30, 39, 48, 57, 66, 75, 84, 93])"
      ]
     },
     "execution_count": 6,
     "metadata": {},
     "output_type": "execute_result"
    }
   ],
   "source": [
    "max_depth = 100\n",
    "cycle_depths = np.arange(3, max_depth, 9)\n",
    "cycle_depths"
   ]
  },
  {
   "cell_type": "code",
   "execution_count": 7,
   "id": "ba1062a1",
   "metadata": {},
   "outputs": [],
   "source": [
    "# emulate coherent error\n",
    "sqrt_iswap_as_phased_fsim = cirq.PhasedFSimGate.from_fsim_rz(\n",
    "    theta=-np.pi/4, phi=0, \n",
    "    rz_angles_before=(0,0), rz_angles_after=(0,0))\n",
    "np.testing.assert_allclose(\n",
    "    cirq.unitary(sqrt_iswap_as_phased_fsim),\n",
    "    cirq.unitary(cirq.SQRT_ISWAP),\n",
    "    atol=1e-8\n",
    ")"
   ]
  },
  {
   "cell_type": "code",
   "execution_count": 8,
   "id": "0073975a",
   "metadata": {},
   "outputs": [
    {
     "data": {
      "text/plain": [
       "array([[1.   +0.j   , 0.   +0.j   , 0.   +0.j   , 0.   +0.j   ],\n",
       "       [0.   +0.j   , 0.707+0.j   , 0.   +0.707j, 0.   +0.j   ],\n",
       "       [0.   +0.j   , 0.   +0.707j, 0.707+0.j   , 0.   +0.j   ],\n",
       "       [0.   +0.j   , 0.   +0.j   , 0.   +0.j   , 0.981-0.195j]])"
      ]
     },
     "execution_count": 8,
     "metadata": {},
     "output_type": "execute_result"
    }
   ],
   "source": [
    "# perturbed version\n",
    "perturbed_sqrt_iswap = cirq.PhasedFSimGate.from_fsim_rz(theta=-np.pi/4, phi=np.pi/16,\n",
    "                                                        rz_angles_before=(0,0), rz_angles_after=(0,0))\n",
    "np.round(cirq.unitary(perturbed_sqrt_iswap), 3)"
   ]
  },
  {
   "cell_type": "code",
   "execution_count": 9,
   "id": "a7433fab",
   "metadata": {},
   "outputs": [],
   "source": [
    "# simulator with constant coherent error\n",
    "def _sub_iswap(op):\n",
    "    if op.gate == cirq.SQRT_ISWAP:\n",
    "        return perturbed_sqrt_iswap.on(*op.qubits)\n",
    "    return op\n",
    "\n",
    "noise = cirq.devices.noise_model.GateSubstitutionNoiseModel(_sub_iswap)\n",
    "noisy_sim = cirq.DensityMatrixSimulator(noise=noise)"
   ]
  },
  {
   "cell_type": "code",
   "execution_count": 10,
   "id": "2ad77e55",
   "metadata": {},
   "outputs": [
    {
     "name": "stderr",
     "output_type": "stream",
     "text": [
      "100%|███████████████████████████████████████████████████████████| 117/117 [00:20<00:00,  5.61it/s]\n"
     ]
    },
    {
     "data": {
      "text/html": [
       "<div>\n",
       "<style scoped>\n",
       "    .dataframe tbody tr th:only-of-type {\n",
       "        vertical-align: middle;\n",
       "    }\n",
       "\n",
       "    .dataframe tbody tr th {\n",
       "        vertical-align: top;\n",
       "    }\n",
       "\n",
       "    .dataframe thead th {\n",
       "        text-align: right;\n",
       "    }\n",
       "</style>\n",
       "<table border=\"1\" class=\"dataframe\">\n",
       "  <thead>\n",
       "    <tr style=\"text-align: right;\">\n",
       "      <th></th>\n",
       "      <th></th>\n",
       "      <th>sampled_probs</th>\n",
       "      <th>timestamp</th>\n",
       "      <th>pair</th>\n",
       "    </tr>\n",
       "    <tr>\n",
       "      <th>circuit_i</th>\n",
       "      <th>cycle_depth</th>\n",
       "      <th></th>\n",
       "      <th></th>\n",
       "      <th></th>\n",
       "    </tr>\n",
       "  </thead>\n",
       "  <tbody>\n",
       "    <tr>\n",
       "      <th>0</th>\n",
       "      <th>3</th>\n",
       "      <td>[0.346, 0.2142, 0.1322, 0.3076]</td>\n",
       "      <td>1.636054e+09</td>\n",
       "      <td>(0, 1)</td>\n",
       "    </tr>\n",
       "    <tr>\n",
       "      <th>1</th>\n",
       "      <th>3</th>\n",
       "      <td>[0.0295, 0.3115, 0.0909, 0.5681]</td>\n",
       "      <td>1.636054e+09</td>\n",
       "      <td>(0, 1)</td>\n",
       "    </tr>\n",
       "    <tr>\n",
       "      <th>2</th>\n",
       "      <th>3</th>\n",
       "      <td>[0.5147, 0.0762, 0.2651, 0.144]</td>\n",
       "      <td>1.636054e+09</td>\n",
       "      <td>(0, 1)</td>\n",
       "    </tr>\n",
       "    <tr>\n",
       "      <th>3</th>\n",
       "      <th>3</th>\n",
       "      <td>[0.1765, 0.0541, 0.4791, 0.2903]</td>\n",
       "      <td>1.636054e+09</td>\n",
       "      <td>(0, 1)</td>\n",
       "    </tr>\n",
       "    <tr>\n",
       "      <th>4</th>\n",
       "      <th>3</th>\n",
       "      <td>[0.073, 0.0638, 0.26, 0.6032]</td>\n",
       "      <td>1.636054e+09</td>\n",
       "      <td>(0, 1)</td>\n",
       "    </tr>\n",
       "  </tbody>\n",
       "</table>\n",
       "</div>"
      ],
      "text/plain": [
       "                                          sampled_probs     timestamp    pair\n",
       "circuit_i cycle_depth                                                        \n",
       "0         3             [0.346, 0.2142, 0.1322, 0.3076]  1.636054e+09  (0, 1)\n",
       "1         3            [0.0295, 0.3115, 0.0909, 0.5681]  1.636054e+09  (0, 1)\n",
       "2         3             [0.5147, 0.0762, 0.2651, 0.144]  1.636054e+09  (0, 1)\n",
       "3         3            [0.1765, 0.0541, 0.4791, 0.2903]  1.636054e+09  (0, 1)\n",
       "4         3               [0.073, 0.0638, 0.26, 0.6032]  1.636054e+09  (0, 1)"
      ]
     },
     "execution_count": 10,
     "metadata": {},
     "output_type": "execute_result"
    }
   ],
   "source": [
    "# run benchmark circuits\n",
    "from cirq.experiments.xeb_sampling import sample_2q_xeb_circuits\n",
    "sampled_df = sample_2q_xeb_circuits(sampler=noisy_sim, circuits=circuits, \n",
    "                                    cycle_depths=cycle_depths, repetitions=10_000)\n",
    "sampled_df.head()"
   ]
  },
  {
   "cell_type": "code",
   "execution_count": 11,
   "id": "d075b437",
   "metadata": {},
   "outputs": [
    {
     "data": {
      "text/html": [
       "<div>\n",
       "<style scoped>\n",
       "    .dataframe tbody tr th:only-of-type {\n",
       "        vertical-align: middle;\n",
       "    }\n",
       "\n",
       "    .dataframe tbody tr th {\n",
       "        vertical-align: top;\n",
       "    }\n",
       "\n",
       "    .dataframe thead th {\n",
       "        text-align: right;\n",
       "    }\n",
       "</style>\n",
       "<table border=\"1\" class=\"dataframe\">\n",
       "  <thead>\n",
       "    <tr style=\"text-align: right;\">\n",
       "      <th></th>\n",
       "      <th>cycle_depth</th>\n",
       "      <th>fidelity</th>\n",
       "      <th>pair</th>\n",
       "    </tr>\n",
       "  </thead>\n",
       "  <tbody>\n",
       "    <tr>\n",
       "      <th>0</th>\n",
       "      <td>3</td>\n",
       "      <td>0.926900</td>\n",
       "      <td>(0, 1)</td>\n",
       "    </tr>\n",
       "    <tr>\n",
       "      <th>1</th>\n",
       "      <td>12</td>\n",
       "      <td>0.856284</td>\n",
       "      <td>(0, 1)</td>\n",
       "    </tr>\n",
       "    <tr>\n",
       "      <th>2</th>\n",
       "      <td>21</td>\n",
       "      <td>0.774688</td>\n",
       "      <td>(0, 1)</td>\n",
       "    </tr>\n",
       "    <tr>\n",
       "      <th>3</th>\n",
       "      <td>30</td>\n",
       "      <td>0.632738</td>\n",
       "      <td>(0, 1)</td>\n",
       "    </tr>\n",
       "    <tr>\n",
       "      <th>4</th>\n",
       "      <td>39</td>\n",
       "      <td>0.586245</td>\n",
       "      <td>(0, 1)</td>\n",
       "    </tr>\n",
       "  </tbody>\n",
       "</table>\n",
       "</div>"
      ],
      "text/plain": [
       "   cycle_depth  fidelity    pair\n",
       "0            3  0.926900  (0, 1)\n",
       "1           12  0.856284  (0, 1)\n",
       "2           21  0.774688  (0, 1)\n",
       "3           30  0.632738  (0, 1)\n",
       "4           39  0.586245  (0, 1)"
      ]
     },
     "execution_count": 11,
     "metadata": {},
     "output_type": "execute_result"
    }
   ],
   "source": [
    "# compute fidelity\n",
    "from cirq.experiments.xeb_fitting import benchmark_2q_xeb_fidelities\n",
    "fids = benchmark_2q_xeb_fidelities(sampled_df, circuits, cycle_depths)\n",
    "fids.head()"
   ]
  },
  {
   "cell_type": "code",
   "execution_count": 12,
   "id": "f36907a4",
   "metadata": {},
   "outputs": [
    {
     "data": {
      "text/plain": [
       "<matplotlib.legend.Legend at 0x7f773c79a6a0>"
      ]
     },
     "execution_count": 12,
     "metadata": {},
     "output_type": "execute_result"
    },
    {
     "data": {
      "image/png": "[encoded data removed]",
      "text/plain": [
       "<Figure size 432x288 with 1 Axes>"
      ]
     },
     "metadata": {
      "needs_background": "light"
     },
     "output_type": "display_data"
    }
   ],
   "source": [
    "%matplotlib inline\n",
    "from matplotlib import pyplot as plt\n",
    "\n",
    "xx = np.linspace(0, fids['cycle_depth'].max())\n",
    "plt.plot(xx, (1-5e-3)**(4*xx), label=r'Exponential Reference')\n",
    "\n",
    "plt.plot(fids['cycle_depth'], fids['fidelity'], 'o-', label='Perturbed fSim')\n",
    "\n",
    "plt.ylabel('Circuit fidelity')\n",
    "plt.xlabel('Cycle Depth $d$')\n",
    "plt.legend(loc='best')"
   ]
  },
  {
   "cell_type": "code",
   "execution_count": 13,
   "id": "8b558554",
   "metadata": {},
   "outputs": [
    {
     "name": "stdout",
     "output_type": "stream",
     "text": [
      "Simulating with theta =  -0.785 phi   =       0 \n",
      "Loss:   0.378\n",
      "Simulating with theta =  -0.685 phi   =       0 \n",
      "Loss:   0.592\n",
      "Simulating with theta =  -0.785 phi   =     0.1 \n",
      "Loss:  0.0991\n",
      "Simulating with theta =  -0.885 phi   =     0.1 \n",
      "Loss:   0.249\n",
      "Simulating with theta =  -0.885 phi   =     0.2 \n",
      "Loss:   0.245\n",
      "Simulating with theta =  -0.785 phi   =     0.2 \n",
      "Loss: 0.00168\n",
      "Simulating with theta =  -0.735 phi   =    0.25 \n",
      "Loss:   0.101\n",
      "Simulating with theta =  -0.685 phi   =     0.1 \n",
      "Loss:   0.389\n",
      "Simulating with theta =  -0.835 phi   =   0.175 \n",
      "Loss:  0.0685\n",
      "Simulating with theta =  -0.835 phi   =   0.275 \n",
      "Loss:   0.144\n",
      "Simulating with theta =  -0.798 phi   =   0.144 \n",
      "Loss:  0.0213\n",
      "Simulating with theta =  -0.748 phi   =   0.169 \n",
      "Loss:   0.071\n",
      "Simulating with theta =  -0.814 phi   =   0.173 \n",
      "Loss:   0.021\n",
      "Simulating with theta =  -0.801 phi   =    0.23 \n",
      "Loss:  0.0303\n",
      "Simulating with theta =  -0.799 phi   =   0.165 \n",
      "Loss: 0.00753\n",
      "Simulating with theta =  -0.771 phi   =   0.192 \n",
      "Loss: 0.00963\n",
      "Simulating with theta =  -0.781 phi   =   0.187 \n",
      "Loss: 0.00149\n",
      "Simulating with theta =  -0.768 phi   =   0.222 \n",
      "Loss:  0.0232\n",
      "Simulating with theta =  -0.791 phi   =   0.179 \n",
      "Loss: 0.00102\n",
      "Simulating with theta =  -0.787 phi   =   0.167 \n",
      "Loss: 0.00663\n",
      "Simulating with theta =  -0.786 phi   =   0.192 \n",
      "Loss: 0.00011\n",
      "Simulating with theta =  -0.795 phi   =   0.184 \n",
      "Loss:  0.0019\n",
      "Simulating with theta =  -0.785 phi   =   0.186 \n",
      "Loss: 0.000338\n",
      "Simulating with theta =   -0.78 phi   =   0.199 \n",
      "Loss: 0.00271\n",
      "Simulating with theta =  -0.788 phi   =   0.184 \n",
      "Loss: 0.000146\n",
      "Simulating with theta =  -0.789 phi   =    0.19 \n",
      "Loss: 1.53e-05\n",
      "Simulating with theta =  -0.791 phi   =   0.191 \n",
      "Loss: 0.000545\n",
      "Simulating with theta =  -0.787 phi   =   0.197 \n",
      "Loss: 0.000854\n",
      "Simulating with theta =  -0.788 phi   =   0.187 \n",
      "Loss: -7.08e-05\n",
      "Simulating with theta =  -0.791 phi   =   0.185 \n",
      "Loss: 0.000333\n",
      "Simulating with theta =  -0.787 phi   =    0.19 \n",
      "Loss: -5.08e-05\n",
      "Simulating with theta =  -0.786 phi   =   0.188 \n",
      "Loss: 5.36e-05\n",
      "Simulating with theta =  -0.788 phi   =   0.189 \n",
      "Loss: -6.34e-05\n",
      "Simulating with theta =  -0.789 phi   =   0.186 \n",
      "Loss: -3.87e-06\n",
      "Simulating with theta =  -0.788 phi   =   0.189 \n",
      "Loss: -7.96e-05\n",
      "Simulating with theta =  -0.787 phi   =   0.187 \n",
      "Loss: -5.08e-05\n",
      "Simulating with theta =  -0.788 phi   =   0.189 \n",
      "Loss: -8.13e-05\n",
      "Simulating with theta =  -0.788 phi   =    0.19 \n",
      "Loss: -3.07e-05\n",
      "Simulating with theta =  -0.788 phi   =   0.188 \n",
      "Loss: -8.41e-05\n"
     ]
    }
   ],
   "source": [
    "# optimize parameters\n",
    "import multiprocessing\n",
    "pool = multiprocessing.get_context('spawn').Pool()\n",
    "from cirq.experiments.xeb_fitting import \\\n",
    "    parameterize_circuit, characterize_phased_fsim_parameters_with_xeb, SqrtISwapXEBOptions\n",
    "\n",
    "options = SqrtISwapXEBOptions(\n",
    "    characterize_theta=True, \n",
    "    characterize_phi=True,\n",
    "    characterize_chi=False,\n",
    "    characterize_gamma=False,\n",
    "    characterize_zeta=False\n",
    ")\n",
    "p_circuits = [parameterize_circuit(circuit, options) for circuit in circuits]\n",
    "res = characterize_phased_fsim_parameters_with_xeb(\n",
    "    sampled_df, \n",
    "    p_circuits, \n",
    "    cycle_depths, \n",
    "    options, \n",
    "    pool=pool,\n",
    "    xatol=1e-3,\n",
    "    fatol=1e-3)"
   ]
  },
  {
   "cell_type": "code",
   "execution_count": 14,
   "id": "9b941075",
   "metadata": {},
   "outputs": [
    {
     "data": {
      "image/png": "[encoded data removed]",
      "text/plain": [
       "<Figure size 432x288 with 1 Axes>"
      ]
     },
     "metadata": {
      "needs_background": "light"
     },
     "output_type": "display_data"
    }
   ],
   "source": [
    "xx = np.linspace(0, fids['cycle_depth'].max())\n",
    "p_depol = 5e-3 # from above\n",
    "plt.plot(xx, (1-p_depol)**(4*xx), label=r'Exponential Reference')\n",
    "plt.axhline(1, color='grey', ls='--')\n",
    "\n",
    "plt.plot(fids['cycle_depth'], fids['fidelity'], 'o-', label='Perturbed fSim')\n",
    "plt.plot(res.fidelities_df['cycle_depth'], res.fidelities_df['fidelity'], 'o-', label='Refit fSim')\n",
    "\n",
    "plt.ylabel('Circuit fidelity')\n",
    "plt.xlabel('Cycle Depth')\n",
    "plt.legend(loc='best')\n",
    "plt.tight_layout()"
   ]
  },
  {
   "cell_type": "code",
   "execution_count": null,
   "id": "d5172aca",
   "metadata": {},
   "outputs": [],
   "source": []
  }
 ],
 "metadata": {
  "kernelspec": {
   "display_name": "Python 3 (ipykernel)",
   "language": "python",
   "name": "python3"
  },
  "language_info": {
   "codemirror_mode": {
    "name": "ipython",
    "version": 3
   },
   "file_extension": ".py",
   "mimetype": "text/x-python",
   "name": "python",
   "nbconvert_exporter": "python",
   "pygments_lexer": "ipython3",
   "version": "3.8.10"
  }
 },
 "nbformat": 4,
 "nbformat_minor": 5
}
